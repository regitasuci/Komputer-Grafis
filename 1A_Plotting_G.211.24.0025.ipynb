import numpy as np
import matplotlib.pyplot as plt
# Plotting Area
plt.axis([0,100,0,10])
plt.axis('on')
plt.grid(True)
plt.title('this is my plot')
plt.xlabel('this is the x axis')
plt.ylabel('this is the y axis')
# Color Intensity
plt.axis([0,100,0,10])
plt.scatter(60,50,s=1000,color='b',alpha=1)
plt.scatter(80,50,s=1000,color='b',alpha=.5)
plt.scatter(100,50,s=1000,color='b',alpha=.1)
plt.show()
